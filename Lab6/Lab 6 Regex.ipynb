{
 "cells": [
  {
   "cell_type": "markdown",
   "metadata": {},
   "source": [
    "# Lab 6 Regex\n",
    "### Preguntas\n",
    "\n"
   ]
  },
  {
   "cell_type": "code",
   "execution_count": 3,
   "metadata": {},
   "outputs": [],
   "source": [
    "import re\n",
    "import numpy as np\n",
    "import pandas as pd"
   ]
  },
  {
   "cell_type": "markdown",
   "metadata": {},
   "source": [
    "1. Genere una expresión regular que sea capaz de detectar las placas de un\n",
    "vehículo particular guatemalteco."
   ]
  },
  {
   "cell_type": "code",
   "execution_count": 33,
   "metadata": {},
   "outputs": [
    {
     "name": "stdout",
     "output_type": "stream",
     "text": [
      "['P115GKR']\n"
     ]
    }
   ],
   "source": [
    "\n",
    "placas = ['P115GKR',\n",
    "          'C516DJGH',\n",
    "          'M022BSM',\n",
    "          'U153BMR']\n",
    "\n",
    "r = re.compile('[P][\\d][\\d][\\d][A-Z][A-Z][A-Z]')\n",
    "placas_result = list(filter(r.match,placas))\n",
    "print(placas_result)"
   ]
  },
  {
   "cell_type": "markdown",
   "metadata": {},
   "source": [
    "2. Genere una expresión regular que valide si un archivo es de tipo .pdf o jpg.\n",
    "a. Ejemplo1.pdf, prueba2.PDF, respuestas_del_examen.jpg, amor.JPG"
   ]
  },
  {
   "cell_type": "code",
   "execution_count": 3,
   "metadata": {},
   "outputs": [
    {
     "name": "stdout",
     "output_type": "stream",
     "text": [
      "['Ejemplo1.pdf', 'respuestas_del_examen.jpg']\n"
     ]
    }
   ],
   "source": [
    "archivos = ['Ejemplo1.pdf',\n",
    "          'prueba2.PDF',\n",
    "          'respuestas_del_examen.jpg',\n",
    "          'amor.JPG']\n",
    "\n",
    "r = re.compile('[\\w]+[\\.](pdf|jpg)')\n",
    "archivos_result = list(filter(r.match,archivos))\n",
    "print(archivos_result)"
   ]
  },
  {
   "cell_type": "markdown",
   "metadata": {},
   "source": [
    "3. Genere una expresión regular para validar contraseñas de correo. Una\n",
    "contraseña de correo debe contener por lo menos 8 caracteres, una letra\n",
    "mayúscula y un carácter especial.\n"
   ]
  },
  {
   "cell_type": "code",
   "execution_count": 36,
   "metadata": {},
   "outputs": [
    {
     "name": "stdout",
     "output_type": "stream",
     "text": [
      "['^ABC$fdjf', 'H&0t$3wes']\n"
     ]
    }
   ],
   "source": [
    "password = [ '^ABC$fdjf', 'H&0t$3wes']\n",
    "\n",
    "r = re.compile('^(?=.*?[A-Z])(?=.*?[#?!@$%^&*-]).{8,}$')\n",
    "password_result = list(filter(r.match,password))\n",
    "print(password_result)"
   ]
  },
  {
   "cell_type": "markdown",
   "metadata": {},
   "source": [
    "4. Cree una expresión regular para validar un numero de carnet de la Universidad\n",
    "Galileo, por ejemplo 19002324 donde los primeros dos dígitos representan el\n",
    "año en el que el alumno se inscribió los cuales pueden variar desde el 01 (año\n",
    "2001) hasta el 30 (año 2030). Los siguientes dos dígitos son cero (00) los cuales \n",
    "van por default y los últimos cuatro dígitos son un número que va desde el 1110\n",
    "hasta el 8970. Para dar su respuesta utilice la notación de expresiones\n",
    "regulares.\n"
   ]
  },
  {
   "cell_type": "code",
   "execution_count": 15,
   "metadata": {},
   "outputs": [
    {
     "name": "stdout",
     "output_type": "stream",
     "text": [
      "['19002324', '23005987', '30008970']\n"
     ]
    }
   ],
   "source": [
    "carnets = ['19002324','23005987', '30008970','31001110']\n",
    "\n",
    "#('[0-3][0-9]00[1110-8970]')\n",
    "#(0|1|2|3)[\\d][00][1-8][\\d][1-7][\\d]\n",
    "r = re.compile('((0[1-9])|((1|2)[0-9])|(30))00[1110-8970]')\n",
    "carnets_result = list(filter(r.match,carnets))\n",
    "print(carnets_result)"
   ]
  },
  {
   "cell_type": "markdown",
   "metadata": {},
   "source": [
    "5. Cree una expresión regular que encuentre todas las palabras de la primera\n",
    "línea, pero ninguna de la segunda.\n",
    "a. pit, spot, spate, slap two, respite\n",
    "b. pt,Pot,peat,part\n"
   ]
  },
  {
   "cell_type": "code",
   "execution_count": 13,
   "metadata": {},
   "outputs": [
    {
     "name": "stdout",
     "output_type": "stream",
     "text": [
      "['pit', 'spot', 'slap two', 'respite']\n"
     ]
    }
   ],
   "source": [
    "palabras = ['pit', 'spot', 'slap two', 'respite',\n",
    "          'pt', 'Pot', 'peat', 'part']\n",
    "r = re.compile('(s?(l|p)(a|o|i)(t|p)e?)|(r)[\\w]')\n",
    "palabras_result = list(filter(r.match,palabras))\n",
    "print(palabras_result)"
   ]
  },
  {
   "cell_type": "markdown",
   "metadata": {},
   "source": [
    "6. Cree una expresión regular para obtener los números telefónicos de Guatemala.\n",
    "Estos pueden contener al inicio +502 o 502, pueden estar separados por un\n",
    "espacio en blanco o un guión o juntos. Notar que los números telefónicos\n",
    "pueden empezar únicamente con 4,5,6 o 2.\n",
    "a. +50254821151, 4210-7640, 52018150, 2434 6854, 11234569,\n",
    "50211234578\n"
   ]
  },
  {
   "cell_type": "code",
   "execution_count": 17,
   "metadata": {},
   "outputs": [
    {
     "name": "stdout",
     "output_type": "stream",
     "text": [
      "['+50254821151', '5024210-7640']\n"
     ]
    }
   ],
   "source": [
    "#tiene que empezar con 502 o +502\n",
    "numbers = ['+50234318695'  , \"+50254821151\" , '5024210-7640', '50211234578']\n",
    "r = re.compile('\\+?502( |-)?(4|5|6|2)')\n",
    "numbers_result = list(filter(r.match,numbers))\n",
    "print(numbers_result)"
   ]
  },
  {
   "cell_type": "markdown",
   "metadata": {},
   "source": [
    "7. Genere una expresión regular que sea capaz de obtener correos de la UFM"
   ]
  },
  {
   "cell_type": "code",
   "execution_count": 48,
   "metadata": {},
   "outputs": [
    {
     "name": "stdout",
     "output_type": "stream",
     "text": [
      "['boris.rendon@ufm.edu', 'boris@ufm.edu', 'boris.rendon.carrera@ufm.edu', 'boris@ufm.edu', 'b.o.r.i.s@ufm.edu']\n"
     ]
    }
   ],
   "source": [
    "emails = ['boris.rendon@ufm.edu',\n",
    "          'boris.rendon@hotmail.com',\n",
    "          'boris@ufm.edu',\n",
    "          'boris.rendon.carrera@ufm.edu',\n",
    "          'boris@ufm.edu',\n",
    "          'b.o.r.i.s@ufm.edu'\n",
    "          ]\n",
    "\n",
    "r = re.compile('([\\w]+[\\.]?)*\\@(ufm)[\\.](edu)')\n",
    "emails_result = list(filter(r.match, emails))\n",
    "\n",
    "\n",
    "print(emails_result)"
   ]
  },
  {
   "cell_type": "markdown",
   "metadata": {},
   "source": [
    "8. En el mundo distópico de Eurasia, Big Brother le asigna un identificador único a\n",
    "cada ciudadano. Genere una expresión regular que valide las identificaciones.\n",
    "Composición del id:\n",
    "a. El id inicia con 0 a 3 letras minúsculas (puede tener 0 letras minúsculas\n",
    "hasta tres letras minúsculas)\n",
    "b. Luego es seguido por una cadena de dígitos que puede ser de 2 a 9\n",
    "dígitos respectivamente.\n",
    "c. Inmediatamente después de la cadena de dígitos, se encuentra por lo\n",
    "menos tres letras mayúsculas.\n",
    "d. Ej: abc012333ABCDEEEE"
   ]
  },
  {
   "cell_type": "code",
   "execution_count": 19,
   "metadata": {},
   "outputs": [
    {
     "name": "stdout",
     "output_type": "stream",
     "text": [
      "['abc012333ABCDEEEE', 'bo123456789RIS']\n"
     ]
    }
   ],
   "source": [
    "idEu = ['abc012333ABCDEEEE', 'bo123456789RIS']\n",
    "\n",
    "r = re.compile('[a-z]?[a-z]?[a-z]?[\\d][\\d][\\d]?[\\d]?[\\d]?[\\d]?[\\d]?[\\d]?[\\d]?[A-Z][A-Z][A-Z]+')\n",
    "id_result = list(filter(r.match, idEu))\n",
    "\n",
    "\n",
    "print(id_result)"
   ]
  },
  {
   "cell_type": "code",
   "execution_count": null,
   "metadata": {},
   "outputs": [],
   "source": []
  }
 ],
 "metadata": {
  "kernelspec": {
   "display_name": "Python 3",
   "language": "python",
   "name": "python3"
  },
  "language_info": {
   "codemirror_mode": {
    "name": "ipython",
    "version": 3
   },
   "file_extension": ".py",
   "mimetype": "text/x-python",
   "name": "python",
   "nbconvert_exporter": "python",
   "pygments_lexer": "ipython3",
   "version": "3.8.5"
  }
 },
 "nbformat": 4,
 "nbformat_minor": 4
}
